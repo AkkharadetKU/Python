{
  "nbformat": 4,
  "nbformat_minor": 0,
  "metadata": {
    "colab": {
      "provenance": [],
      "collapsed_sections": [
        "2Vl-sP-_QFop"
      ]
    },
    "kernelspec": {
      "name": "python3",
      "display_name": "Python 3"
    },
    "language_info": {
      "name": "python"
    }
  },
  "cells": [
    {
      "cell_type": "markdown",
      "source": [
        "# **Bioinformatics Application in Drug Discovery**\n",
        "---"
      ],
      "metadata": {
        "id": "N7vE37XXP6WR"
      }
    },
    {
      "cell_type": "markdown",
      "source": [
        "## **Part 0: Introduction of Google colab**\n",
        "\n",
        "**What is Colaboratory?**\n",
        "\n",
        "Colaboratory, or “Colab” for short, is a product from Google Research. Colab allows anybody to **write and execute arbitrary python code through the browser**, and is especially well suited to machine learning, data analysis and education. More technically, Colab is a hosted Jupyter notebook service that requires no setup to use, while providing access free of charge to computing resources including GPUs.\n",
        "\n",
        "For more information -> (https://research.google.com/colaboratory/faq.html)\n",
        "\n",
        "---"
      ],
      "metadata": {
        "id": "2Vl-sP-_QFop"
      }
    },
    {
      "cell_type": "markdown",
      "source": [
        "## **Part 1: Data Collection**\n",
        "\n",
        "To build the machine learning for drug discovery, we need to collect data from the ChEMBL database first.\n",
        "\n",
        "**ChEMBL** is a manually curated database of bioactive molecules with drug-like properties. It brings together chemical, bioactivity and genomic data to aid the translation of genomic information into effective new drugs.\n",
        "\n",
        "For more information -> https://www.ebi.ac.uk/chembl/\n",
        "\n",
        "---\n",
        "\n"
      ],
      "metadata": {
        "id": "7WruU6_GRJxc"
      }
    },
    {
      "cell_type": "markdown",
      "source": [
        "### **1.1) Installing and importing the libraries**"
      ],
      "metadata": {
        "id": "ck5XqJyyS4rR"
      }
    },
    {
      "cell_type": "code",
      "source": [
        "#check version of Python\n",
        "!python --version"
      ],
      "metadata": {
        "id": "XXOVY-Syd3za"
      },
      "execution_count": null,
      "outputs": []
    },
    {
      "cell_type": "code",
      "source": [
        "#pip is the package installer for Python\n",
        "! pip install chembl_webresource_client"
      ],
      "metadata": {
        "id": "PmkmD0oOQ_AB"
      },
      "execution_count": null,
      "outputs": []
    },
    {
      "cell_type": "code",
      "source": [
        "#Pandas DataFrame is a 2-dimensional labeled data structure like any table with rows and columns.\n",
        "#For more information -> https://pandas.pydata.org/docs/reference/api/pandas.DataFrame.html\n",
        "import pandas as pd\n",
        "from chembl_webresource_client.new_client import new_client"
      ],
      "metadata": {
        "id": "UZDWV3L4TtBN"
      },
      "execution_count": null,
      "outputs": []
    },
    {
      "cell_type": "markdown",
      "source": [
        "### **1.2) Searching for targeted protien**\n",
        "\n",
        "In this demonstration, we will focus on **Histone deacetylase 6 (HDAC6)** **, a promising target for cancer treatment. HDAC6 is important for cell survival in stressful situations, and it contributes to cancer metastasis by increasing cell motility.  "
      ],
      "metadata": {
        "id": "nld9zcCtQb9x"
      }
    },
    {
      "cell_type": "code",
      "source": [
        "# Target search -> acetylcholinesterase\n",
        "target = new_client.target\n",
        "target_query = target.search('HDAC6')\n",
        "targets = pd.DataFrame.from_dict(target_query)\n",
        "targets"
      ],
      "metadata": {
        "id": "kDjoVqgqV1OL"
      },
      "execution_count": null,
      "outputs": []
    },
    {
      "cell_type": "markdown",
      "source": [
        "### **1.3) Select and retrieve bioactivity data for Histone deacetylase 6**"
      ],
      "metadata": {
        "id": "sKyAaj5IWnIa"
      }
    },
    {
      "cell_type": "code",
      "source": [
        "#select the target in Homo sapiens\n",
        "selected_target = targets.target_chembl_id[1]\n",
        "selected_target"
      ],
      "metadata": {
        "id": "eQ6Auba4XJaF"
      },
      "execution_count": null,
      "outputs": []
    },
    {
      "cell_type": "code",
      "source": [
        "#retrieve bioactivity focusing on IC50\n",
        "activity = new_client.activity\n",
        "res = activity.filter(target_chembl_id=selected_target).filter(standard_type=\"IC50\")"
      ],
      "metadata": {
        "id": "fAhlJzwqYKuj"
      },
      "execution_count": null,
      "outputs": []
    },
    {
      "cell_type": "code",
      "source": [
        "#pandas.DataFrame.from_dict -> Creates DataFrame object from dictionary by columns or by index allowing dtype specification.\n",
        "df = pd.DataFrame.from_dict(res)"
      ],
      "metadata": {
        "id": "FwHcAWpMYOgn"
      },
      "execution_count": null,
      "outputs": []
    },
    {
      "cell_type": "code",
      "source": [
        "#show DataFrame\n",
        "df"
      ],
      "metadata": {
        "id": "xvI4GQorZ5Z3"
      },
      "execution_count": null,
      "outputs": []
    },
    {
      "cell_type": "code",
      "source": [
        "#show the column 'type'\n",
        "df.type.unique()"
      ],
      "metadata": {
        "id": "nFhIkI7JPz-u"
      },
      "execution_count": null,
      "outputs": []
    },
    {
      "cell_type": "code",
      "source": [
        "#remove the row with 'pIC50' and 'IC50(app)'\n",
        "df = df[~df['type'].isin(['pIC50', 'IC50(app)'])]"
      ],
      "metadata": {
        "id": "R2Iq_qKdP8jS"
      },
      "execution_count": null,
      "outputs": []
    },
    {
      "cell_type": "code",
      "source": [
        "#recheck the column 'type'\n",
        "df.type.unique()"
      ],
      "metadata": {
        "id": "s4KcY5GJQJ2w"
      },
      "execution_count": null,
      "outputs": []
    },
    {
      "cell_type": "code",
      "source": [
        "#show dataframe\n",
        "df"
      ],
      "metadata": {
        "id": "vmOFa2s1QQCy"
      },
      "execution_count": null,
      "outputs": []
    },
    {
      "cell_type": "code",
      "source": [
        "#check units\n",
        "df.units.unique()"
      ],
      "metadata": {
        "id": "MoW-ON8ZcRJi"
      },
      "execution_count": null,
      "outputs": []
    },
    {
      "cell_type": "code",
      "source": [
        "#Keep the row with 'nM'\n",
        "df = df[df['units'] == 'nM']\n",
        "df"
      ],
      "metadata": {
        "id": "zATcF0TicX_p"
      },
      "execution_count": null,
      "outputs": []
    },
    {
      "cell_type": "code",
      "source": [
        "#export CSV data file\n",
        "df.to_csv('HDAC6_01_bioactivity_data_raw.csv', index=False)"
      ],
      "metadata": {
        "id": "bSXLPG_baYnH"
      },
      "execution_count": null,
      "outputs": []
    },
    {
      "cell_type": "markdown",
      "source": [
        "### **1.4) Dealing with missing value [DF2]**\n",
        "\n"
      ],
      "metadata": {
        "id": "oMOeKipvaxoj"
      }
    },
    {
      "cell_type": "code",
      "source": [
        "#drop compounds missing standard value\n",
        "#DataFrame.notna() -> Detect existing (non-missing) values.\n",
        "df2 = df[df.standard_value.notna()]\n",
        "df2"
      ],
      "metadata": {
        "id": "ZBmnDZRpZR6Z"
      },
      "execution_count": null,
      "outputs": []
    },
    {
      "cell_type": "code",
      "source": [
        "#drop compounds missing canonical_smiles\n",
        "#Canonical_smiles -> Simplified Molecular Input Line Entry Specification (canonical format)\n",
        "#DataFrame.notna() -> Detect existing (non-missing) values.\n",
        "df2 = df2[df.canonical_smiles.notna()]\n",
        "df2"
      ],
      "metadata": {
        "id": "rBIXJhBRZVS5"
      },
      "execution_count": null,
      "outputs": []
    },
    {
      "cell_type": "code",
      "source": [
        "df2.standard_value.describe()"
      ],
      "metadata": {
        "id": "SegCMVep3p4e"
      },
      "execution_count": null,
      "outputs": []
    },
    {
      "cell_type": "code",
      "source": [
        "#len -> Return the number of items in a list\n",
        "len(df2.canonical_smiles.unique())"
      ],
      "metadata": {
        "id": "na8VoHzueVBm"
      },
      "execution_count": null,
      "outputs": []
    },
    {
      "cell_type": "code",
      "source": [
        "#remove the duplicate SMILES\n",
        "df2_nr = df2.drop_duplicates(['canonical_smiles'])\n",
        "df2_nr"
      ],
      "metadata": {
        "id": "6mmbjZytewsY"
      },
      "execution_count": null,
      "outputs": []
    },
    {
      "cell_type": "markdown",
      "source": [
        "### **1.5) Data pre-processing of the bioactivity data [DF3]**"
      ],
      "metadata": {
        "id": "puBVzlRLfMDX"
      }
    },
    {
      "cell_type": "code",
      "source": [
        "#Combine the 3 columns (molecule_chembl_id,canonical_smiles,standard_value) and bioactivity_class into a DataFrame\n",
        "selection = ['molecule_chembl_id','canonical_smiles','standard_value']\n",
        "df3 = df2_nr[selection]\n",
        "df3"
      ],
      "metadata": {
        "id": "-WY6Re7pfTDM"
      },
      "execution_count": null,
      "outputs": []
    },
    {
      "cell_type": "code",
      "source": [
        "df3.to_csv('HDAC6_02_bioactivity_data_preprocessed.csv', index=False)"
      ],
      "metadata": {
        "id": "7H2kQESjgGjp"
      },
      "execution_count": null,
      "outputs": []
    },
    {
      "cell_type": "markdown",
      "source": [
        "### **1.6) Labeling compounds [DF4 and DF5]**\n",
        "From IC50 value, we can seperate compounds into three groups active (less than 1,000 nM), inactive (greater than 10,000 nM) or intermediate (1,000 - 10,000 nM)\n"
      ],
      "metadata": {
        "id": "8UPak8IZgX2K"
      }
    },
    {
      "cell_type": "code",
      "source": [
        "#pd.read_csv -> Read a comma-separated values (csv) file into DataFrame.\n",
        "df4 = pd.read_csv('HDAC6_02_bioactivity_data_preprocessed.csv')"
      ],
      "metadata": {
        "id": "-pFaqLdXggdo"
      },
      "execution_count": null,
      "outputs": []
    },
    {
      "cell_type": "code",
      "source": [
        "#condition for seperation of active, inactive and intermediate compounds\n",
        "bioactivity_threshold = []\n",
        "for i in df4.standard_value:\n",
        "  if float(i) >= 10000:\n",
        "    bioactivity_threshold.append(\"inactive\")\n",
        "  elif float(i) <= 1000:\n",
        "    bioactivity_threshold.append(\"active\")\n",
        "  else:\n",
        "    bioactivity_threshold.append(\"intermediate\")"
      ],
      "metadata": {
        "id": "-u4V_M30hRUs"
      },
      "execution_count": null,
      "outputs": []
    },
    {
      "cell_type": "code",
      "source": [
        "#pandas.concat -> Can also add a layer of hierarchical indexing on the concatenation axis, which may be useful if the labels are the same (or overlapping) on the passed axis number.\n",
        "bioactivity_class = pd.Series(bioactivity_threshold, name='class')\n",
        "df5 = pd.concat([df4, bioactivity_class], axis=1)\n",
        "df5"
      ],
      "metadata": {
        "id": "4Df0Z79SiEx1"
      },
      "execution_count": null,
      "outputs": []
    },
    {
      "cell_type": "code",
      "source": [
        "df5.to_csv('HDAC6_03_bioactivity_data_curated.csv', index=False)"
      ],
      "metadata": {
        "id": "TvhQoUeXinYP"
      },
      "execution_count": null,
      "outputs": []
    },
    {
      "cell_type": "code",
      "source": [
        "! zip HDAC6.zip *.csv"
      ],
      "metadata": {
        "id": "lkl7835gi0BZ"
      },
      "execution_count": null,
      "outputs": []
    },
    {
      "cell_type": "code",
      "source": [
        "! ls -l"
      ],
      "metadata": {
        "id": "NiqhezT7i0t8"
      },
      "execution_count": null,
      "outputs": []
    },
    {
      "cell_type": "markdown",
      "source": [
        "## **Part 2: Exploratory Data**\n",
        "\n",
        "In this part, we will perform Descriptor Calculation and Exploratory Data Analysis.\n",
        "\n",
        "*Note that molecular descriptors are widely employed to present molecular characteristics in cheminformatics.\n",
        "\n"
      ],
      "metadata": {
        "id": "aWhmjkSgjCQj"
      }
    },
    {
      "cell_type": "markdown",
      "source": [
        "### **2.1) Installing conda and rdkit**"
      ],
      "metadata": {
        "id": "zJ9hWqGdkRWw"
      }
    },
    {
      "cell_type": "code",
      "source": [
        "! wget https://repo.anaconda.com/miniconda/Miniconda3-py37_4.8.2-Linux-x86_64.sh\n",
        "! chmod +x Miniconda3-py37_4.8.2-Linux-x86_64.sh\n",
        "! bash ./Miniconda3-py37_4.8.2-Linux-x86_64.sh -b -f -p /usr/local\n",
        "! conda install -c rdkit rdkit -y\n",
        "import sys\n",
        "sys.path.append('/usr/local/lib/python3.7/site-packages/')"
      ],
      "metadata": {
        "id": "SGZuDEMIkX7E"
      },
      "execution_count": null,
      "outputs": []
    },
    {
      "cell_type": "markdown",
      "source": [
        "### **2.2) Clean Smiles**"
      ],
      "metadata": {
        "id": "FNOvsATlk_gu"
      }
    },
    {
      "cell_type": "code",
      "source": [
        "df6 = pd.read_csv('HDAC6_03_bioactivity_data_curated.csv')\n",
        "df6"
      ],
      "metadata": {
        "id": "Si7fzZo4mWM9"
      },
      "execution_count": null,
      "outputs": []
    },
    {
      "cell_type": "code",
      "source": [
        "df_no_smiles = df6.drop(columns='canonical_smiles')"
      ],
      "metadata": {
        "id": "PW-gHVOfklYb"
      },
      "execution_count": null,
      "outputs": []
    },
    {
      "cell_type": "code",
      "source": [
        "smiles = []\n",
        "\n",
        "for i in df6.canonical_smiles.tolist():\n",
        "  cpd = str(i).split('.')\n",
        "  cpd_longest = max(cpd, key = len)\n",
        "  smiles.append(cpd_longest)\n",
        "\n",
        "smiles = pd.Series(smiles, name = 'canonical_smiles')"
      ],
      "metadata": {
        "id": "uUNccP1Olb_Y"
      },
      "execution_count": null,
      "outputs": []
    },
    {
      "cell_type": "code",
      "source": [
        "df_clean_smiles = pd.concat([df_no_smiles,smiles], axis=1)\n",
        "df_clean_smiles"
      ],
      "metadata": {
        "id": "uNzcwyDilfM7"
      },
      "execution_count": null,
      "outputs": []
    },
    {
      "cell_type": "markdown",
      "source": [
        "### **2.3) Calculate Lipinski descriptors**\n",
        "\n",
        "***Christopher Lipinski***, a scientist at Pfizer, came up with a set of rule-of-thumb for evaluating the druglikeness of compounds. Such druglikeness is based on the Absorption, Distribution, Metabolism and Excretion (ADME) that is also known as the pharmacokinetic profile. Lipinski analyzed all orally active FDA-approved drugs in the formulation of what is to be known as the Rule-of-Five or Lipinski's Rule.\n",
        "\n",
        "The Lipinski's Rule stated the following:\n",
        "\n",
        "*   Molecular weight < 500 Dalton\n",
        "*   Octanol-water partition coefficient (LogP) < 5\n",
        "*   Hydrogen bond donors < 5\n",
        "*   Hydrogen bond acceptors < 10\n",
        "\n",
        "[Reference: DataProfessor]"
      ],
      "metadata": {
        "id": "Fn3MCVZ8oZuc"
      }
    },
    {
      "cell_type": "code",
      "source": [
        "#RDKit is a collection of cheminformatics and machine learning tools built in C++ and Python.\n",
        "#It is widely used in cheminformatics, pharmaceutical research, and computational chemistry.\n",
        "!pip install rdkit"
      ],
      "metadata": {
        "id": "YVAqd89VhFA6"
      },
      "execution_count": null,
      "outputs": []
    },
    {
      "cell_type": "code",
      "source": [
        "#import libraries\n",
        "import numpy as np\n",
        "from rdkit import Chem\n",
        "from rdkit.Chem import Descriptors, Lipinski"
      ],
      "metadata": {
        "id": "HJLGi4J-pL0a"
      },
      "execution_count": null,
      "outputs": []
    },
    {
      "cell_type": "code",
      "source": [
        "#calculate the descriptors\n",
        "# Inspired by: https://codeocean.com/explore/capsules?query=tag:data-curation\n",
        "\n",
        "def lipinski(smiles, verbose=False):\n",
        "\n",
        "    moldata= []\n",
        "    for elem in smiles:\n",
        "        mol=Chem.MolFromSmiles(elem)\n",
        "        moldata.append(mol)\n",
        "\n",
        "    baseData= np.arange(1,1)\n",
        "    i=0\n",
        "    for mol in moldata:\n",
        "\n",
        "        desc_MolWt = Descriptors.MolWt(mol)\n",
        "        desc_MolLogP = Descriptors.MolLogP(mol)\n",
        "        desc_NumHDonors = Lipinski.NumHDonors(mol)\n",
        "        desc_NumHAcceptors = Lipinski.NumHAcceptors(mol)\n",
        "\n",
        "        row = np.array([desc_MolWt,\n",
        "                        desc_MolLogP,\n",
        "                        desc_NumHDonors,\n",
        "                        desc_NumHAcceptors])\n",
        "\n",
        "        if(i==0):\n",
        "            baseData=row\n",
        "        else:\n",
        "            baseData=np.vstack([baseData, row])\n",
        "        i=i+1\n",
        "\n",
        "    columnNames=[\"MW\",\"LogP\",\"NumHDonors\",\"NumHAcceptors\"]\n",
        "    descriptors = pd.DataFrame(data=baseData,columns=columnNames)\n",
        "\n",
        "    return descriptors"
      ],
      "metadata": {
        "id": "RFBz53PZpajv"
      },
      "execution_count": null,
      "outputs": []
    },
    {
      "cell_type": "code",
      "source": [
        "df_lipinski = lipinski(df_clean_smiles.canonical_smiles)\n",
        "df_lipinski"
      ],
      "metadata": {
        "id": "Y7FYqWLkpibS"
      },
      "execution_count": null,
      "outputs": []
    },
    {
      "cell_type": "markdown",
      "source": [
        "### **2.4) Combine DataFrame**"
      ],
      "metadata": {
        "id": "-F4V0JrDp9kC"
      }
    },
    {
      "cell_type": "code",
      "source": [
        "# combine df with df_lipinski\n",
        "df_combined = pd.concat([df6,df_lipinski], axis=1)\n",
        "df_combined"
      ],
      "metadata": {
        "id": "VOy9TgLuqGUI"
      },
      "execution_count": null,
      "outputs": []
    },
    {
      "cell_type": "markdown",
      "source": [
        "### **2.5) Convert IC50 to pIC50**\n",
        "To allow **IC50** data to be more uniformly distributed, we will convert **IC50** to the negative logarithmic scale which is essentially **pIC50 = -log10(IC50)**.\n",
        "\n",
        "This custom function **pIC50()** will accept a DataFrame as input and will:\n",
        "* Take the IC50 values from the ``standard_value`` column and converts it from nM to M by multiplying the value by 10$^{-9}$\n",
        "* Take the molar value and apply -log10\n",
        "* Delete the ``standard_value`` column and create a new ``pIC50`` column\n",
        "\n",
        "Note: Values greater than 100,000,000 will be fixed at 100,000,000 otherwise the negative logarithmic value will become negative."
      ],
      "metadata": {
        "id": "iXF8aBNCq72Y"
      }
    },
    {
      "cell_type": "code",
      "source": [
        "df_combined.standard_value.describe()"
      ],
      "metadata": {
        "id": "ylgi1-S3sWlV"
      },
      "execution_count": null,
      "outputs": []
    },
    {
      "cell_type": "code",
      "source": [
        "-np.log10( (10**-9)* 100000000 )"
      ],
      "metadata": {
        "id": "RtiFwR-Bs-_2"
      },
      "execution_count": null,
      "outputs": []
    },
    {
      "cell_type": "code",
      "source": [
        "-np.log10( (10**-9)* 10000000000 )"
      ],
      "metadata": {
        "id": "LuJsIqJVtCij"
      },
      "execution_count": null,
      "outputs": []
    },
    {
      "cell_type": "code",
      "source": [
        "def norm_value(input):\n",
        "    norm = []\n",
        "\n",
        "    for i in input['standard_value']:\n",
        "        if i > 100000000:\n",
        "          i = 100000000\n",
        "        norm.append(i)\n",
        "\n",
        "    input['standard_value_norm'] = norm\n",
        "    x = input.drop('standard_value', 1)\n",
        "\n",
        "    return x"
      ],
      "metadata": {
        "id": "1su_QutXtQCk"
      },
      "execution_count": null,
      "outputs": []
    },
    {
      "cell_type": "code",
      "source": [
        "df_norm = norm_value(df_combined)\n",
        "df_norm"
      ],
      "metadata": {
        "id": "vjUHSm12tVSM"
      },
      "execution_count": null,
      "outputs": []
    },
    {
      "cell_type": "code",
      "source": [
        "df_norm.standard_value_norm.describe()"
      ],
      "metadata": {
        "id": "ZBx9sZOltenx"
      },
      "execution_count": null,
      "outputs": []
    },
    {
      "cell_type": "code",
      "source": [
        "def pIC50(input):\n",
        "    pIC50 = []\n",
        "\n",
        "    for i in input['standard_value_norm']:\n",
        "        molar = i*(10**-9) # Converts nM to M\n",
        "        pIC50.append(-np.log10(molar))\n",
        "\n",
        "    input['pIC50'] = pIC50\n",
        "    x = input.drop('standard_value_norm', 1)\n",
        "\n",
        "    return x"
      ],
      "metadata": {
        "id": "c7A-QlkOw9GG"
      },
      "execution_count": null,
      "outputs": []
    },
    {
      "cell_type": "code",
      "source": [
        "df_final = pIC50(df_norm)\n",
        "df_final"
      ],
      "metadata": {
        "id": "2suwwReUt6Nf"
      },
      "execution_count": null,
      "outputs": []
    },
    {
      "cell_type": "code",
      "source": [
        "df_final.pIC50.describe()"
      ],
      "metadata": {
        "id": "KP1WtvJqu162"
      },
      "execution_count": null,
      "outputs": []
    },
    {
      "cell_type": "code",
      "source": [
        "df_final.to_csv('acetylcholinesterase_04_bioactivity_data_3class_pIC50.csv')"
      ],
      "metadata": {
        "id": "rs7Pmy8a-MFr"
      },
      "execution_count": null,
      "outputs": []
    },
    {
      "cell_type": "markdown",
      "source": [
        "### **2.6) Remove intermediate**"
      ],
      "metadata": {
        "id": "0OwR6Ljo-U7i"
      }
    },
    {
      "cell_type": "code",
      "source": [
        "df_2class = df_final[df_final['class'] != 'intermediate']\n",
        "df_2class"
      ],
      "metadata": {
        "id": "zRscL1jj-UHk"
      },
      "execution_count": null,
      "outputs": []
    },
    {
      "cell_type": "code",
      "source": [
        "df_2class.to_csv('acetylcholinesterase_05_bioactivity_data_2class_pIC50.csv')"
      ],
      "metadata": {
        "id": "Z7oyx-7w-gvE"
      },
      "execution_count": null,
      "outputs": []
    },
    {
      "cell_type": "markdown",
      "source": [
        "### **2.7) Exploratory Data Analysis (Chemical Space Analysis) via Lipinski descriptors**"
      ],
      "metadata": {
        "id": "iIDW7okx-l6R"
      }
    },
    {
      "cell_type": "code",
      "source": [
        "import seaborn as sns\n",
        "sns.set(style='ticks')\n",
        "import matplotlib.pyplot as plt"
      ],
      "metadata": {
        "id": "wiRvJlli-tu-"
      },
      "execution_count": null,
      "outputs": []
    },
    {
      "cell_type": "markdown",
      "source": [
        "#### **Frequency plot of the 2 bioactivity classes**"
      ],
      "metadata": {
        "id": "lfYONmfm-40B"
      }
    },
    {
      "cell_type": "code",
      "source": [
        "plt.figure(figsize=(5.5, 5.5))\n",
        "\n",
        "sns.countplot(x='class', data=df_2class, edgecolor='black')\n",
        "\n",
        "plt.xlabel('Bioactivity class', fontsize=14, fontweight='bold')\n",
        "plt.ylabel('Frequency', fontsize=14, fontweight='bold')\n",
        "\n",
        "plt.savefig('plot_bioactivity_class.pdf')"
      ],
      "metadata": {
        "id": "EyDdyw14-wgA"
      },
      "execution_count": null,
      "outputs": []
    },
    {
      "cell_type": "markdown",
      "source": [
        "#### **Scatter plot of MW versus LogP**"
      ],
      "metadata": {
        "id": "lRx6QgtT-_Ly"
      }
    },
    {
      "cell_type": "code",
      "source": [
        "plt.figure(figsize=(5.5, 5.5))\n",
        "\n",
        "sns.scatterplot(x='MW', y='LogP', data=df_2class, hue='class', size='pIC50', edgecolor='black', alpha=0.7)\n",
        "\n",
        "plt.xlabel('MW', fontsize=14, fontweight='bold')\n",
        "plt.ylabel('LogP', fontsize=14, fontweight='bold')\n",
        "plt.legend(bbox_to_anchor=(1.05, 1), loc=2, borderaxespad=0)\n",
        "plt.savefig('plot_MW_vs_LogP.pdf')"
      ],
      "metadata": {
        "id": "1aC0Q2Ju_HK1"
      },
      "execution_count": null,
      "outputs": []
    },
    {
      "cell_type": "markdown",
      "source": [
        "#### **Box Plost - pIC50 value**"
      ],
      "metadata": {
        "id": "t2RXONBh_XLM"
      }
    },
    {
      "cell_type": "code",
      "source": [
        "plt.figure(figsize=(5.5, 5.5))\n",
        "\n",
        "sns.boxplot(x = 'class', y = 'pIC50', data = df_2class)\n",
        "\n",
        "plt.xlabel('Bioactivity class', fontsize=14, fontweight='bold')\n",
        "plt.ylabel('pIC50 value', fontsize=14, fontweight='bold')\n",
        "\n",
        "plt.savefig('plot_ic50.pdf')"
      ],
      "metadata": {
        "id": "M41D7_KK_oX0"
      },
      "execution_count": null,
      "outputs": []
    },
    {
      "cell_type": "markdown",
      "source": [
        "#### **Statistical analysis | Mann-Whitney U Test**"
      ],
      "metadata": {
        "id": "gS7cqlAr_zp2"
      }
    },
    {
      "cell_type": "code",
      "source": [
        "def mannwhitney(descriptor, verbose=False):\n",
        "  # https://machinelearningmastery.com/nonparametric-statistical-significance-tests-in-python/\n",
        "  from numpy.random import seed\n",
        "  from numpy.random import randn\n",
        "  from scipy.stats import mannwhitneyu\n",
        "\n",
        "# seed the random number generator\n",
        "  seed(1)\n",
        "\n",
        "# actives and inactives\n",
        "  selection = [descriptor, 'class']\n",
        "  df = df_2class[selection]\n",
        "  active = df[df['class'] == 'active']\n",
        "  active = active[descriptor]\n",
        "\n",
        "  selection = [descriptor, 'class']\n",
        "  df = df_2class[selection]\n",
        "  inactive = df[df['class'] == 'inactive']\n",
        "  inactive = inactive[descriptor]\n",
        "\n",
        "# compare samples\n",
        "  stat, p = mannwhitneyu(active, inactive)\n",
        "  #print('Statistics=%.3f, p=%.3f' % (stat, p))\n",
        "\n",
        "# interpret\n",
        "  alpha = 0.05\n",
        "  if p > alpha:\n",
        "    interpretation = 'Same distribution (fail to reject H0)'\n",
        "  else:\n",
        "    interpretation = 'Different distribution (reject H0)'\n",
        "\n",
        "  results = pd.DataFrame({'Descriptor':descriptor,\n",
        "                          'Statistics':stat,\n",
        "                          'p':p,\n",
        "                          'alpha':alpha,\n",
        "                          'Interpretation':interpretation}, index=[0])\n",
        "  filename = 'mannwhitneyu_' + descriptor + '.csv'\n",
        "  results.to_csv(filename)\n",
        "\n",
        "  return results"
      ],
      "metadata": {
        "id": "DqzDwFFk_3j6"
      },
      "execution_count": null,
      "outputs": []
    },
    {
      "cell_type": "code",
      "source": [
        "mannwhitney('pIC50')"
      ],
      "metadata": {
        "id": "yGuFvzs0_7iS"
      },
      "execution_count": null,
      "outputs": []
    },
    {
      "cell_type": "markdown",
      "source": [
        "#### **MW**"
      ],
      "metadata": {
        "id": "Mak07UPtAFRC"
      }
    },
    {
      "cell_type": "code",
      "source": [
        "plt.figure(figsize=(5.5, 5.5))\n",
        "\n",
        "sns.boxplot(x = 'class', y = 'MW', data = df_2class)\n",
        "\n",
        "plt.xlabel('Bioactivity class', fontsize=14, fontweight='bold')\n",
        "plt.ylabel('MW', fontsize=14, fontweight='bold')\n",
        "\n",
        "plt.savefig('plot_MW.pdf')"
      ],
      "metadata": {
        "id": "Xnq63yJNAIdQ"
      },
      "execution_count": null,
      "outputs": []
    },
    {
      "cell_type": "code",
      "source": [
        "mannwhitney('MW')"
      ],
      "metadata": {
        "id": "qhy2_Ps_AOSU"
      },
      "execution_count": null,
      "outputs": []
    },
    {
      "cell_type": "markdown",
      "source": [
        "#### **LogP**"
      ],
      "metadata": {
        "id": "8mrCwYTRATQv"
      }
    },
    {
      "cell_type": "code",
      "source": [
        "plt.figure(figsize=(5.5, 5.5))\n",
        "\n",
        "sns.boxplot(x = 'class', y = 'LogP', data = df_2class)\n",
        "\n",
        "plt.xlabel('Bioactivity class', fontsize=14, fontweight='bold')\n",
        "plt.ylabel('LogP', fontsize=14, fontweight='bold')\n",
        "\n",
        "plt.savefig('plot_LogP.pdf')"
      ],
      "metadata": {
        "id": "CNv3Jnh0AVOB"
      },
      "execution_count": null,
      "outputs": []
    },
    {
      "cell_type": "code",
      "source": [
        "mannwhitney('LogP')"
      ],
      "metadata": {
        "id": "SpAf83mFAaQC"
      },
      "execution_count": null,
      "outputs": []
    },
    {
      "cell_type": "markdown",
      "source": [
        "#### **NumHDonors**"
      ],
      "metadata": {
        "id": "ppQGFl7tAepW"
      }
    },
    {
      "cell_type": "code",
      "source": [
        "plt.figure(figsize=(5.5, 5.5))\n",
        "\n",
        "sns.boxplot(x = 'class', y = 'NumHDonors', data = df_2class)\n",
        "\n",
        "plt.xlabel('Bioactivity class', fontsize=14, fontweight='bold')\n",
        "plt.ylabel('NumHDonors', fontsize=14, fontweight='bold')\n",
        "\n",
        "plt.savefig('plot_NumHDonors.pdf')"
      ],
      "metadata": {
        "id": "xz6jmPK1AjmQ"
      },
      "execution_count": null,
      "outputs": []
    },
    {
      "cell_type": "code",
      "source": [
        "mannwhitney('NumHDonors')"
      ],
      "metadata": {
        "id": "U8FlpQN9Asy_"
      },
      "execution_count": null,
      "outputs": []
    },
    {
      "cell_type": "markdown",
      "source": [
        "#### **NumHAcceptors**"
      ],
      "metadata": {
        "id": "smjYp-FcAxqQ"
      }
    },
    {
      "cell_type": "code",
      "source": [
        "plt.figure(figsize=(5.5, 5.5))\n",
        "\n",
        "sns.boxplot(x = 'class', y = 'NumHAcceptors', data = df_2class)\n",
        "\n",
        "plt.xlabel('Bioactivity class', fontsize=14, fontweight='bold')\n",
        "plt.ylabel('NumHAcceptors', fontsize=14, fontweight='bold')\n",
        "\n",
        "plt.savefig('plot_NumHAcceptors.pdf')"
      ],
      "metadata": {
        "id": "N50AawTBA0m2"
      },
      "execution_count": null,
      "outputs": []
    },
    {
      "cell_type": "code",
      "source": [
        "mannwhitney('NumHAcceptors')"
      ],
      "metadata": {
        "id": "YdUhkQ4JA5e7"
      },
      "execution_count": null,
      "outputs": []
    },
    {
      "cell_type": "markdown",
      "source": [
        "---\n",
        "\n",
        "#### **Interpretation***\n",
        "**pIC50 values**\n",
        "Taking a look at pIC50 values, the actives and inactives displayed statistically significant difference, which is to be expected since threshold values (IC50 < 1,000 nM = Actives while IC50 > 10,000 nM = Inactives, corresponding to pIC50 > 6 = Actives and pIC50 < 5 = Inactives) were used to define actives and inactives.\n",
        "\n",
        "**Lipinski's descriptors**\n",
        "All of the 4 Lipinski's descriptors exhibited statistically significant difference between the actives and inactives.\n",
        "\n",
        "---"
      ],
      "metadata": {
        "id": "sOB-t45LBWea"
      }
    }
  ]
}